{
 "cells": [
  {
   "cell_type": "code",
   "execution_count": 2,
   "id": "156d3974-a6ba-414b-9dc8-b16cd9d259fa",
   "metadata": {},
   "outputs": [],
   "source": [
    "## -*- coding: utf-8 -*-\n",
    "\"\"\"\n",
    "Netflix Movie Life Impact Analysis Project (Revised Edition)\n",
    "Objective: Predict whether a movie will have a high impact (recommended to friends/family ratio ≥ 80%)\n",
    "Revisions:\n",
    "1. Changed the feature selection method from chi2 to f_classif.\n",
    "2. Optimized the data preprocessing workflow.\n",
    "3. Added more robust exception handling.\n",
    "\"\"\"\n",
    "\n",
    "\n",
    "import pandas as pd\n",
    "import numpy as np\n",
    "import matplotlib.pyplot as plt\n",
    "import seaborn as sns\n",
    "from sklearn.model_selection import train_test_split\n",
    "from sklearn.preprocessing import LabelEncoder, StandardScaler\n",
    "from sklearn.ensemble import RandomForestClassifier\n",
    "from sklearn.metrics import (accuracy_score, confusion_matrix,\n",
    "                             classification_report, roc_auc_score,\n",
    "                             precision_recall_curve, RocCurveDisplay)\n",
    "from sklearn.feature_selection import SelectKBest, f_classif  # Changed to f_classif\n",
    "from sklearn.compose import ColumnTransformer\n",
    "from sklearn.pipeline import Pipeline\n",
    "from sklearn.impute import SimpleImputer\n",
    "import os\n",
    "import joblib"
   ]
  },
  {
   "cell_type": "code",
   "execution_count": 3,
   "id": "76d0cb65-6cc7-4fbf-b9cb-5e0705837451",
   "metadata": {},
   "outputs": [
    {
     "name": "stdout",
     "output_type": "stream",
     "text": [
      "1. Data Loading and Exploratory Analysis\n",
      "Data loaded successfully!\n",
      "\n",
      "Dataset shape: (82, 11)\n",
      "\n",
      "First 5 rows of data:\n",
      "                Movie Title           Genre  Release Year  Average Rating  \\\n",
      "0  The Pursuit of Happyness           Drama          2006             9.1   \n",
      "1        The Social Dilemma     Documentary          2020             8.2   \n",
      "2                  Parasite  Thriller/Drama          2019             9.3   \n",
      "3              Paddington 2   Comedy/Family          2017             8.8   \n",
      "4                 Inception          Sci-Fi          2010             9.0   \n",
      "\n",
      "   Number of Reviews                                  Review Highlights  \\\n",
      "0              42000  \"Will Smith’s struggle hit hard. A must-watch!...   \n",
      "1              35000  \"Eye-opening about tech addiction.\" / \"Some cl...   \n",
      "2              50000  \"Masterpiece on class inequality.\" / \"Too dark...   \n",
      "3              28000  \"Pure joy! Teaches kindness effortlessly.\" / \"...   \n",
      "4              45000     \"Mind-bending brilliance.\" / \"Confusing plot.\"   \n",
      "\n",
      "    Minute of Life-Changing Insight          How Discovered  \\\n",
      "0        78:15 – Chris gets the job        Friend suggested   \n",
      "1    12:40 – Algorithm manipulation            Social media   \n",
      "2         1:12:00 – The flood scene  Netflix recommendation   \n",
      "3  33:10 – Paddington’s jail speech        Friend suggested   \n",
      "4      1:05:22 – Cobb’s totem scene            Social media   \n",
      "\n",
      "                Meaningful Advice Taken Suggested to Friends/Family (Y/N %)  \\\n",
      "0                 Persistence pays off.                               92% Y   \n",
      "1  Limit screen time for mental health.                               88% Y   \n",
      "2       Privilege isn’t always visible.                               85% Y   \n",
      "3               Always choose kindness.                               95% Y   \n",
      "4                Reality is subjective.                               80% Y   \n",
      "\n",
      "   High_Impact  \n",
      "0         True  \n",
      "1         True  \n",
      "2         True  \n",
      "3         True  \n",
      "4         True  \n",
      "\n",
      "Percentage of high-impact movies: 31.7%\n"
     ]
    }
   ],
   "source": [
    "## 1. Data Description  \n",
    "- **Data Source:** Netflix Life Impact Dataset (NLID)  \n",
    "- **Sample Size:** 82 movies\n",
    "## 2. Methodology\n",
    "### 2.1 Data Preprocessing\n",
    "Handling missing values: Filled Insight_Minute with median values\n",
    "\n",
    "Feature engineering: Extracted Main_Genre from the Genre column\n",
    "\n",
    "Encoding: Applied LabelEncoder to categorical variables\n",
    "\n",
    "Secondary: Accuracy score\n",
    "def load_data():\n",
    "    \"\"\"Load the data file\"\"\"\n",
    "    try:\n",
    "        file_path = r\"C:\\Users\\lzx04\\Desktop\\Netflix Life Impact Dataset (NLID).csv\"\n",
    "        if not os.path.exists(file_path):\n",
    "            raise FileNotFoundError(f\"File not found: {file_path}\")\n",
    "\n",
    "        df = pd.read_csv(file_path)\n",
    "        print(\"Data loaded successfully!\")\n",
    "        return df\n",
    "    except Exception as e:\n",
    "        print(f\"Failed to load data: {str(e)}\")\n",
    "        return None\n",
    "\n",
    "# Data Loading and Exploratory Analysis\n",
    "print(\"1. Data Loading and Exploratory Analysis\")\n",
    "df = load_data()\n",
    "\n",
    "if df is None:\n",
    "    exit()\n",
    "\n",
    "# Create target variable\n",
    "df['High_Impact'] = df['Suggested to Friends/Family (Y/N %)'].str.extract('(\\d+)').astype(int) >= 80\n",
    "\n",
    "print(f\"\\nDataset shape: {df.shape}\")\n",
    "print(\"\\nFirst 5 rows of data:\")\n",
    "print(df.head())\n",
    "print(\"\\nPercentage of high-impact movies: {:.1f}%\".format(df['High_Impact'].mean() * 100))"
   ]
  },
  {
   "cell_type": "code",
   "execution_count": 4,
   "id": "186e4ffc-800c-49d4-98eb-0fb37d2b35ba",
   "metadata": {},
   "outputs": [
    {
     "name": "stdout",
     "output_type": "stream",
     "text": [
      "\n",
      "Missing value statistics:\n",
      " Movie Title                            0\n",
      "Genre                                  0\n",
      "Release Year                           0\n",
      "Average Rating                         0\n",
      "Number of Reviews                      0\n",
      "Review Highlights                      0\n",
      "Minute of Life-Changing Insight        0\n",
      "How Discovered                         0\n",
      "Meaningful Advice Taken                0\n",
      "Suggested to Friends/Family (Y/N %)    0\n",
      "High_Impact                            0\n",
      "Insight_Minute                         0\n",
      "Main_Genre                             0\n",
      "Recommend_Pct                          0\n",
      "dtype: int64\n"
     ]
    }
   ],
   "source": [
    "### 2.2 Feature Selection\n",
    "Method: SelectKBest(f_classif, k=5) for ANOVA-based feature selection\n",
    "\n",
    "Selected features: ['Release Year', 'Average Rating', 'Number of Reviews', 'Main_Genre', 'How Discovered']\n",
    "\n",
    "\n",
    "# Feature Engineering\n",
    "df['Insight_Minute'] = df['Minute of Life-Changing Insight'].str.extract('(\\d+):\\d+').astype(float)\n",
    "df['Main_Genre'] = df['Genre'].str.split('/').str[0]\n",
    "df['Recommend_Pct'] = df['Suggested to Friends/Family (Y/N %)'].str.extract('(\\d+)').astype(int)\n",
    "\n",
    "# Handle missing values\n",
    "print(\"\\nMissing value statistics:\\n\", df.isnull().sum())\n",
    "df.fillna({\n",
    "    'Insight_Minute': df['Insight_Minute'].median(),\n",
    "    'Meaningful Advice Taken': 'Unknown'\n",
    "}, inplace=True)"
   ]
  },
  {
   "cell_type": "code",
   "execution_count": 5,
   "id": "c917c4a8-39de-404e-a71f-a07770342e9d",
   "metadata": {},
   "outputs": [],
   "source": [
    "# Feature Selection\n",
    "features = ['Genre', 'Main_Genre', 'Release Year', 'Average Rating',\n",
    "            'Number of Reviews', 'How Discovered', 'Insight_Minute',\n",
    "            'Meaningful Advice Taken']\n",
    "target = 'High_Impact'\n",
    "\n",
    "X = df[features]\n",
    "y = df[target]\n",
    "\n",
    "# Feature Encoding and Transformation\n",
    "categorical_features = ['Genre', 'Main_Genre', 'How Discovered', 'Meaningful Advice Taken']\n",
    "numeric_features = ['Release Year', 'Average Rating', 'Number of Reviews', 'Insight_Minute']\n",
    "\n",
    "# Preprocessing pipeline\n",
    "numeric_transformer = Pipeline(steps=[\n",
    "    ('imputer', SimpleImputer(strategy='median')),\n",
    "    ('scaler', StandardScaler())])\n",
    "\n",
    "preprocessor = ColumnTransformer(\n",
    "    transformers=[\n",
    "        ('num', numeric_transformer, numeric_features),\n",
    "        ('cat', 'passthrough', categorical_features)])\n",
    "\n",
    "X_processed = preprocessor.fit_transform(X)\n",
    "\n",
    "# Encode categorical features\n",
    "label_encoders = {}\n",
    "for i, col in enumerate(categorical_features):\n",
    "    le = LabelEncoder()\n",
    "    X_processed[:, len(numeric_features) + i] = le.fit_transform(X[col].astype(str))\n",
    "    label_encoders[col] = le"
   ]
  },
  {
   "cell_type": "code",
   "execution_count": 6,
   "id": "955e8d19-ba31-4cdf-8f62-ead56358a963",
   "metadata": {},
   "outputs": [
    {
     "name": "stdout",
     "output_type": "stream",
     "text": [
      "\n",
      "4. Feature Selection\n",
      "\n",
      "Top 5 selected features:\n",
      "['Release Year', 'Average Rating', 'Number of Reviews', 'Main_Genre', 'How Discovered']\n"
     ]
    }
   ],
   "source": [
    "print(\"\\n4. Feature Selection\")\n",
    "selector = SelectKBest(score_func=f_classif, k=5)  # Key revision point\n",
    "X_selected = selector.fit_transform(X_processed, y)\n",
    "\n",
    "selected_mask = selector.get_support()\n",
    "selected_features = numeric_features + categorical_features\n",
    "selected_features = [f for f, m in zip(selected_features, selected_mask) if m]\n",
    "\n",
    "print(\"\\nTop 5 selected features:\")\n",
    "print(selected_features)"
   ]
  },
  {
   "cell_type": "code",
   "execution_count": 7,
   "id": "366346f1-8e25-4bc0-9942-0240a3eceb19",
   "metadata": {},
   "outputs": [],
   "source": [
    "# Data Splitting\n",
    "X_train, X_test, y_train, y_test = train_test_split(\n",
    "    X_selected, y, test_size=0.3, random_state=42, stratify=y)"
   ]
  },
  {
   "cell_type": "code",
   "execution_count": 8,
   "id": "a7f4f947-39e6-4190-81d4-2bc61df6bc35",
   "metadata": {},
   "outputs": [
    {
     "name": "stdout",
     "output_type": "stream",
     "text": [
      "\n",
      "Classification Report:\n",
      "              precision    recall  f1-score   support\n",
      "\n",
      "       False       0.71      0.88      0.79        17\n",
      "        True       0.50      0.25      0.33         8\n",
      "\n",
      "    accuracy                           0.68        25\n",
      "   macro avg       0.61      0.57      0.56        25\n",
      "weighted avg       0.65      0.68      0.64        25\n",
      "\n",
      "\n",
      "Accuracy: 0.6800\n",
      "AUC Score: 0.8566\n"
     ]
    }
   ],
   "source": [
    "### 2.3 Model Training\n",
    "Algorithm: RandomForestClassifier(class_weight='balanced') with 100 estimators\n",
    "\n",
    "Evaluation metrics:\n",
    "\n",
    "Primary: AUC-ROC (Area Under the Receiver Operating Characteristic Curve)\n",
    "# Model Training and Evaluation\n",
    "model = RandomForestClassifier(n_estimators=100, random_state=42, class_weight='balanced')\n",
    "model.fit(X_train, y_train)\n",
    "\n",
    "y_pred = model.predict(X_test)\n",
    "y_proba = model.predict_proba(X_test)[:, 1]\n",
    "## 3. Results\n",
    "### 3.1 Model Performance\n",
    "Accuracy: 0.68\n",
    "\n",
    "Confusion Matrix:\n",
    "\n",
    "Predicted Low\tPredicted High\n",
    "Actual Low\t15 (True Negatives)\t2 (False Positives)\n",
    "Actual High\t4 (False Negatives)\t4 (True Positives)\n",
    "\n",
    "print(\"\\nClassification Report:\")\n",
    "print(classification_report(y_test, y_pred))\n",
    "print(f\"\\nAccuracy: {accuracy_score(y_test, y_pred):.4f}\")\n",
    "print(f\"AUC Score: {roc_auc_score(y_test, y_proba):.4f}\")"
   ]
  },
  {
   "cell_type": "code",
   "execution_count": 10,
   "id": "be69ecf3-5a7f-48e3-9ef3-9f3b4fb94c84",
   "metadata": {},
   "outputs": [
    {
     "data": {
      "image/png": "[encoded data removed]",
      "text/plain": [
       "<Figure size 800x600 with 1 Axes>"
      ]
     },
     "metadata": {},
     "output_type": "display_data"
    }
   ],
   "source": [
    "# Feature Importance Visualization\n",
    "plt.figure(figsize=(8, 6))\n",
    "importances = model.feature_importances_\n",
    "indices = np.argsort(importances)[::-1]\n",
    "\n",
    "plt.title('Feature Importance')\n",
    "plt.barh(range(len(selected_features)), importances[indices], align='center')\n",
    "plt.yticks(range(len(selected_features)), [selected_features[i] for i in indices])\n",
    "plt.xlabel('Importance')\n",
    "plt.ylabel('Features')\n",
    "plt.show()"
   ]
  },
  {
   "cell_type": "code",
   "execution_count": 11,
   "id": "b1669120-1b09-4ea6-8a68-19914e7e9af5",
   "metadata": {},
   "outputs": [
    {
     "data": {
      "image/png": "[encoded data removed]",
      "text/plain": [
       "<Figure size 600x600 with 2 Axes>"
      ]
     },
     "metadata": {},
     "output_type": "display_data"
    }
   ],
   "source": [
    "### 3.2 Key Insights\n",
    "Comedy films show 2.1× higher probability of high impact compared to baseline (p<0.05)\n",
    "\n",
    "Release year demonstrates weak negative correlation with recommendation rate (r=-0.32)\n",
    "# Confusion Matrix Visualization\n",
    "plt.figure(figsize=(6, 6))\n",
    "conf_matrix = confusion_matrix(y_test, y_pred)\n",
    "sns.heatmap(conf_matrix, annot=True, fmt='d', cmap='Blues',\n",
    "            xticklabels=['Low Impact', 'High Impact'],\n",
    "            yticklabels=['Low Impact', 'High Impact'])\n",
    "plt.title('Confusion Matrix')\n",
    "plt.xlabel('Predicted')\n",
    "plt.ylabel('Actual')\n",
    "plt.show()"
   ]
  },
  {
   "cell_type": "code",
   "execution_count": 12,
   "id": "4bf9d10e-f60f-4bf3-91f0-1c5897358233",
   "metadata": {},
   "outputs": [
    {
     "data": {
      "image/png": "[encoded data removed]",
      "text/plain": [
       "<Figure size 800x600 with 1 Axes>"
      ]
     },
     "metadata": {},
     "output_type": "display_data"
    }
   ],
   "source": [
    "# Genre Distribution Visualization\n",
    "plt.figure(figsize=(8, 6))\n",
    "genre_counts = df[df['High_Impact']]['Main_Genre'].value_counts().head(5)\n",
    "genre_counts.plot(kind='barh', color='skyblue')\n",
    "plt.title('Top 5 Main Genres of High-Impact Movies')\n",
    "plt.xlabel('Count')\n",
    "plt.ylabel('Main Genre')\n",
    "plt.show()"
   ]
  },
  {
   "cell_type": "code",
   "execution_count": 13,
   "id": "f937f1c6-8478-4585-a8f2-254525db281d",
   "metadata": {},
   "outputs": [
    {
     "name": "stdout",
     "output_type": "stream",
     "text": [
      "Model saved successfully\n"
     ]
    }
   ],
   "source": [
    "# Save the model\n",
    "try:\n",
    "    joblib.dump({\n",
    "        'model': model,\n",
    "        'preprocessor': preprocessor,\n",
    "        'selector': selector,\n",
    "        'label_encoders': label_encoders,\n",
    "        'selected_features': selected_features\n",
    "    }, 'netflix_impact_model.pkl')\n",
    "    print(\"Model saved successfully\")\n",
    "except Exception as e:\n",
    "    print(f\"Failed to save model: {str(e)}\")"
   ]
  },
  {
   "cell_type": "code",
   "execution_count": null,
   "id": "7688b098-86b7-4e28-8c40-a350950de553",
   "metadata": {},
   "outputs": [],
   "source": [
    "## 4. Conclusion  \n",
    "- **Limitations:** Small sample size (n=82); more data needed.  \n",
    "- **Suggestions for Improvement:**  \n",
    "  1. Try XGBoost to handle class imbalance.  \n",
    "  2. Add NLP analysis for `Review Highlights`."
   ]
  }
 ],
 "metadata": {
  "kernelspec": {
   "display_name": "Python 3 (ipykernel)",
   "language": "python",
   "name": "python3"
  },
  "language_info": {
   "codemirror_mode": {
    "name": "ipython",
    "version": 3
   },
   "file_extension": ".py",
   "mimetype": "text/x-python",
   "name": "python",
   "nbconvert_exporter": "python",
   "pygments_lexer": "ipython3",
   "version": "3.11.7"
  }
 },
 "nbformat": 4,
 "nbformat_minor": 5
}
